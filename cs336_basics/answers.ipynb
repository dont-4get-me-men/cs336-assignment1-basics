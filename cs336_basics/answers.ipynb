{
 "cells": [
  {
   "cell_type": "markdown",
   "id": "f9438885",
   "metadata": {},
   "source": [
    "### Unicode 1 \n"
   ]
  },
  {
   "cell_type": "code",
   "execution_count": null,
   "id": "637c29aa",
   "metadata": {},
   "outputs": [
    {
     "name": "stdout",
     "output_type": "stream",
     "text": [
      "\u0000\n",
      "False\n",
      "False\n"
     ]
    },
    {
     "data": {
      "text/plain": [
       "'\\x00'"
      ]
     },
     "execution_count": 14,
     "metadata": {},
     "output_type": "execute_result"
    }
   ],
   "source": [
    "# What unicode chraracter chr(0) return\n",
    "\n",
    "print(chr(0))\n",
    "print(chr(0) == '')\n",
    "print(chr(0) is None)\n",
    "\n",
    "chr(0)\n",
    "# Answer: chr(0) returns a hexadecimal character with index 0"
   ]
  },
  {
   "cell_type": "code",
   "execution_count": null,
   "id": "cc671de2",
   "metadata": {},
   "outputs": [
    {
     "data": {
      "text/plain": [
       "\"'\\\\x00'\""
      ]
     },
     "execution_count": 16,
     "metadata": {},
     "output_type": "execute_result"
    }
   ],
   "source": [
    "repr(chr(0))\n",
    "# How does this character's string represantation differ?\n",
    "# answer: it is differ in a way where repr returns represantation in hexadecimal while printing returns string without any space."
   ]
  },
  {
   "cell_type": "code",
   "execution_count": 19,
   "id": "5fcf2ed5",
   "metadata": {},
   "outputs": [
    {
     "name": "stdout",
     "output_type": "stream",
     "text": [
      "this is a test \u0000string\n"
     ]
    }
   ],
   "source": [
    "print('this is a test '+chr(0)+'string')\n"
   ]
  },
  {
   "cell_type": "code",
   "execution_count": 20,
   "id": "cb49f9c0",
   "metadata": {},
   "outputs": [
    {
     "data": {
      "text/plain": [
       "'this is a test\\x00string'"
      ]
     },
     "execution_count": 20,
     "metadata": {},
     "output_type": "execute_result"
    }
   ],
   "source": [
    "\"this is a test\" + chr(0)+'string'\n"
   ]
  },
  {
   "cell_type": "code",
   "execution_count": null,
   "id": "4cbc0b9e",
   "metadata": {},
   "outputs": [],
   "source": [
    "# when characters occurs in string it doesn't return anything while pring\n",
    "# but we are looking in represantation in returns hexadecimal"
   ]
  },
  {
   "cell_type": "markdown",
   "id": "19a0bc2c",
   "metadata": {},
   "source": [
    "### Unicode 2\n"
   ]
  },
  {
   "cell_type": "code",
   "execution_count": 124,
   "id": "73b803f4",
   "metadata": {},
   "outputs": [
    {
     "name": "stdout",
     "output_type": "stream",
     "text": [
      "b'\\xd0\\xbf\\xd1\\x80\\xd0\\xb8\\xd0\\xb2\\xd1\\x96\\xd1\\x82, \\xd0\\xbc\\xd0\\xb5\\xd0\\xbd\\xd0\\xb5 \\xd0\\xb7\\xd0\\xb2\\xd0\\xb0\\xd1\\x82\\xd0\\xb8 \\xd0\\xae\\xd1\\x80\\xd0\\xb0, hello 435 \\xf0\\x9f\\x98\\x82!'\n",
      "b'hello world!'\n"
     ]
    }
   ],
   "source": [
    "test_string = \"привіт, мене звати Юра, hello 435 😂!\"\n",
    "\n",
    "untf8_encoded = test_string.encode(\"utf-8\")\n",
    "print(untf8_encoded)\n",
    "test_string2 = \"hello world!\"\n",
    "print(test_string2.encode(\"utf-8\"))"
   ]
  },
  {
   "cell_type": "code",
   "execution_count": 125,
   "id": "a2f7c0b2",
   "metadata": {},
   "outputs": [
    {
     "data": {
      "text/plain": [
       "[208,\n",
       " 191,\n",
       " 209,\n",
       " 128,\n",
       " 208,\n",
       " 184,\n",
       " 208,\n",
       " 178,\n",
       " 209,\n",
       " 150,\n",
       " 209,\n",
       " 130,\n",
       " 44,\n",
       " 32,\n",
       " 208,\n",
       " 188,\n",
       " 208,\n",
       " 181,\n",
       " 208,\n",
       " 189,\n",
       " 208,\n",
       " 181,\n",
       " 32,\n",
       " 208,\n",
       " 183,\n",
       " 208,\n",
       " 178,\n",
       " 208,\n",
       " 176,\n",
       " 209,\n",
       " 130,\n",
       " 208,\n",
       " 184,\n",
       " 32,\n",
       " 208,\n",
       " 174,\n",
       " 209,\n",
       " 128,\n",
       " 208,\n",
       " 176,\n",
       " 44,\n",
       " 32,\n",
       " 104,\n",
       " 101,\n",
       " 108,\n",
       " 108,\n",
       " 111,\n",
       " 32,\n",
       " 52,\n",
       " 51,\n",
       " 53,\n",
       " 32,\n",
       " 240,\n",
       " 159,\n",
       " 152,\n",
       " 130,\n",
       " 33]"
      ]
     },
     "execution_count": 125,
     "metadata": {},
     "output_type": "execute_result"
    }
   ],
   "source": [
    "list(untf8_encoded)\n"
   ]
  },
  {
   "cell_type": "code",
   "execution_count": 126,
   "id": "914a0aa7",
   "metadata": {},
   "outputs": [
    {
     "name": "stdout",
     "output_type": "stream",
     "text": [
      "36\n",
      "57\n"
     ]
    }
   ],
   "source": [
    "print(len(test_string))\n",
    "print(len(untf8_encoded))\n"
   ]
  },
  {
   "cell_type": "code",
   "execution_count": 127,
   "id": "34e75ab0",
   "metadata": {},
   "outputs": [
    {
     "name": "stdout",
     "output_type": "stream",
     "text": [
      "привіт, мене звати Юра, hello 435 😂!\n"
     ]
    }
   ],
   "source": [
    "print(untf8_encoded.decode(\"utf-8\"))\n"
   ]
  },
  {
   "cell_type": "code",
   "execution_count": 128,
   "id": "c73b7d47",
   "metadata": {},
   "outputs": [
    {
     "ename": "UnicodeDecodeError",
     "evalue": "'utf-8' codec can't decode byte 0xc3 in position 0: unexpected end of data",
     "output_type": "error",
     "traceback": [
      "\u001b[31m---------------------------------------------------------------------------\u001b[39m",
      "\u001b[31mUnicodeDecodeError\u001b[39m                        Traceback (most recent call last)",
      "\u001b[36mCell\u001b[39m\u001b[36m \u001b[39m\u001b[32mIn[128]\u001b[39m\u001b[32m, line 6\u001b[39m\n\u001b[32m      2\u001b[39m     \u001b[38;5;28;01mreturn\u001b[39;00m \u001b[33m\"\u001b[39m\u001b[33m\"\u001b[39m.join([\u001b[38;5;28mbytes\u001b[39m([b]).decode(\u001b[33m\"\u001b[39m\u001b[33mutf-8\u001b[39m\u001b[33m\"\u001b[39m) \u001b[38;5;28;01mfor\u001b[39;00m b \u001b[38;5;129;01min\u001b[39;00m bytesting])\n\u001b[32m      4\u001b[39m test_wrong_decoding_string = \u001b[38;5;28mchr\u001b[39m(\u001b[32m33\u001b[39m)+\u001b[38;5;28mchr\u001b[39m(\u001b[32m255\u001b[39m)+ \u001b[38;5;28mchr\u001b[39m(\u001b[32m256\u001b[39m*\u001b[32m2\u001b[39m)+\u001b[38;5;28mchr\u001b[39m(\u001b[32m256\u001b[39m*\u001b[32m4\u001b[39m+\u001b[32m59\u001b[39m)\n\u001b[32m----> \u001b[39m\u001b[32m6\u001b[39m \u001b[38;5;28mprint\u001b[39m(\u001b[43mdecode_utf8_byres_to_str_wrong\u001b[49m\u001b[43m(\u001b[49m\u001b[43mtest_wrong_decoding_string\u001b[49m\u001b[43m.\u001b[49m\u001b[43mencode\u001b[49m\u001b[43m(\u001b[49m\u001b[33;43m\"\u001b[39;49m\u001b[33;43mutf-8\u001b[39;49m\u001b[33;43m\"\u001b[39;49m\u001b[43m)\u001b[49m\u001b[43m)\u001b[49m)\n",
      "\u001b[36mCell\u001b[39m\u001b[36m \u001b[39m\u001b[32mIn[128]\u001b[39m\u001b[32m, line 2\u001b[39m, in \u001b[36mdecode_utf8_byres_to_str_wrong\u001b[39m\u001b[34m(bytesting)\u001b[39m\n\u001b[32m      1\u001b[39m \u001b[38;5;28;01mdef\u001b[39;00m\u001b[38;5;250m \u001b[39m\u001b[34mdecode_utf8_byres_to_str_wrong\u001b[39m(bytesting:\u001b[38;5;28mbytes\u001b[39m):\n\u001b[32m----> \u001b[39m\u001b[32m2\u001b[39m     \u001b[38;5;28;01mreturn\u001b[39;00m \u001b[33m\"\u001b[39m\u001b[33m\"\u001b[39m.join([\u001b[38;5;28;43mbytes\u001b[39;49m\u001b[43m(\u001b[49m\u001b[43m[\u001b[49m\u001b[43mb\u001b[49m\u001b[43m]\u001b[49m\u001b[43m)\u001b[49m\u001b[43m.\u001b[49m\u001b[43mdecode\u001b[49m\u001b[43m(\u001b[49m\u001b[33;43m\"\u001b[39;49m\u001b[33;43mutf-8\u001b[39;49m\u001b[33;43m\"\u001b[39;49m\u001b[43m)\u001b[49m \u001b[38;5;28;01mfor\u001b[39;00m b \u001b[38;5;129;01min\u001b[39;00m bytesting])\n",
      "\u001b[31mUnicodeDecodeError\u001b[39m: 'utf-8' codec can't decode byte 0xc3 in position 0: unexpected end of data"
     ]
    }
   ],
   "source": [
    "def decode_utf8_byres_to_str_wrong(bytesting:bytes):\n",
    "    return \"\".join([bytes([b]).decode(\"utf-8\") for b in bytesting])\n",
    "\n",
    "test_wrong_decoding_string = chr(33)+chr(255)+ chr(256*2)+chr(256*4+59)\n",
    "\n",
    "print(decode_utf8_byres_to_str_wrong(test_wrong_decoding_string.encode(\"utf-8\")))\n"
   ]
  },
  {
   "cell_type": "code",
   "execution_count": null,
   "id": "c6cea2b4",
   "metadata": {},
   "outputs": [
    {
     "name": "stdout",
     "output_type": "stream",
     "text": [
      "!ÿȀл\n",
      "b'!\\xc3\\xbf\\xc8\\x80\\xd0\\xbb' \n",
      "\n",
      "b'!'\n",
      "b'\\xc3'\n",
      "b'\\xbf'\n",
      "b'\\xc8'\n",
      "b'\\x80'\n",
      "b'\\xd0'\n",
      "b'\\xbb'\n"
     ]
    }
   ],
   "source": [
    "print(test_wrong_decoding_string)\n",
    "print(test_wrong_decoding_string.encode(\"utf-8\"),'\\n')\n",
    "for i in test_wrong_decoding_string.encode(\"utf-8\"):\n",
    "    print(bytes([i]))"
   ]
  },
  {
   "cell_type": "markdown",
   "id": "9966b839",
   "metadata": {},
   "source": [
    "1. What are some reasons to prefer training our tokenizer on UTF-8 encoded bytes, rather than\n",
    "UTF-16 or UTF-32? It may be helpful to compare the output of these encodings for various\n",
    "input strings.\n",
    "Ans: Because it is easier to wrok with 256 characters rather than 256*256 \n",
    "\n",
    "2. An example input byte string for which decode_utf8_bytes_to_str_wrong pro-\n",
    "duces incorrect output, with a one-sentence explanation of why the function is incorrect.\\\n",
    "\n",
    "Ans: any string with characters where ord(character) above 255 . function is incorrect because it don't consider that character can be more than 1 byte\n",
    "\n",
    "3. Give a two byte sequence that does not decode to any Unicode character(s).\n",
    "Ans: Because of nature of an utf-8 encoding the byte can't be start with 1 in 1 byte sequence, so anything where you will give him ord(chracter) above 127 is gonna destroy this encoding"
   ]
  }
 ],
 "metadata": {
  "kernelspec": {
   "display_name": ".venv",
   "language": "python",
   "name": "python3"
  },
  "language_info": {
   "codemirror_mode": {
    "name": "ipython",
    "version": 3
   },
   "file_extension": ".py",
   "mimetype": "text/x-python",
   "name": "python",
   "nbconvert_exporter": "python",
   "pygments_lexer": "ipython3",
   "version": "3.13.3"
  }
 },
 "nbformat": 4,
 "nbformat_minor": 5
}
